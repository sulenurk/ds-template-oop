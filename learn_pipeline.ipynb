{
 "cells": [
  {
   "cell_type": "code",
   "execution_count": 2,
   "metadata": {
    "colab": {
     "base_uri": "https://localhost:8080/"
    },
    "executionInfo": {
     "elapsed": 31641,
     "status": "ok",
     "timestamp": 1744713047219,
     "user": {
      "displayName": "Şule",
      "userId": "00500865046064617523"
     },
     "user_tz": -120
    },
    "id": "yJtoYtDWJPMN",
    "outputId": "5f67e174-e511-43f0-8d74-cbb5a4d97cad"
   },
   "outputs": [],
   "source": [
    "import pandas as pd\n",
    "from utils.data_prep_utils import *\n",
    "from transformers.encoder import *\n",
    "from transformers.binner import *\n",
    "from transformers.standardizer import *\n",
    "from model_binclass.xgboost_binclass import XgboostBinclass"
   ]
  },
  {
   "cell_type": "code",
   "execution_count": null,
   "metadata": {
    "colab": {
     "base_uri": "https://localhost:8080/"
    },
    "executionInfo": {
     "elapsed": 895,
     "status": "ok",
     "timestamp": 1744713072876,
     "user": {
      "displayName": "Şule",
      "userId": "00500865046064617523"
     },
     "user_tz": -120
    },
    "id": "rCsLLXy6__87",
    "outputId": "a2995715-79eb-4790-ecc5-5385d73bc185"
   },
   "outputs": [
    {
     "name": "stdout",
     "output_type": "stream",
     "text": [
      "<class 'pandas.core.frame.DataFrame'>\n",
      "RangeIndex: 10000 entries, 0 to 9999\n",
      "Data columns (total 7 columns):\n",
      " #   Column                   Non-Null Count  Dtype  \n",
      "---  ------                   --------------  -----  \n",
      " 0   Type                     10000 non-null  object \n",
      " 1   Air temperature [K]      10000 non-null  float64\n",
      " 2   Process temperature [K]  10000 non-null  float64\n",
      " 3   Rotational speed [rpm]   10000 non-null  int64  \n",
      " 4   Torque [Nm]              10000 non-null  float64\n",
      " 5   Tool wear [min]          10000 non-null  int64  \n",
      " 6   Machine failure          10000 non-null  int64  \n",
      "dtypes: float64(3), int64(3), object(1)\n",
      "memory usage: 547.0+ KB\n"
     ]
    }
   ],
   "source": [
    "#Data import form drive\n",
    "df = pd.read_csv(r'resources/Machine failure.csv')\n",
    "df = df.drop(['TWF','HDF','PWF', 'OSF', 'RNF', 'UDI', 'Product ID'], axis=1)\n",
    "target = df.columns[-1]\n",
    "features = df.columns.drop(target)\n",
    "df.info()"
   ]
  },
  {
   "cell_type": "code",
   "execution_count": null,
   "metadata": {},
   "outputs": [
    {
     "name": "stdout",
     "output_type": "stream",
     "text": [
      "y_train - 0: 7729, 1: 271\n",
      "y_test  - 0: 1932, 1: 68\n"
     ]
    }
   ],
   "source": [
    "df = data_split_stratified(df, target,  0.2)\n",
    "\n",
    "encoder_info = learn_encoder(df[df.dataset==1].drop(columns=['dataset', target]))\n",
    "df = apply_encoder(df, encoder_info, columns_to_drop=['dataset', target])\n",
    "\n",
    "stand_info = learn_standardizer(df[df.dataset==1].drop(columns=['dataset', target]))\n",
    "df = apply_standardizer(df, stand_info, columns_to_drop=['dataset', target])\n",
    "\n",
    "features = df.columns.drop(target, 'dataset')\n",
    "\n",
    "print(f\"y_train - 0: {sum((df.dataset == 1) & (df[target] == 0))}, 1: {sum((df.dataset == 1) & (df[target] == 1))}\")\n",
    "print(f\"y_test  - 0: {sum((df.dataset == 0) & (df[target] == 0))}, 1: {sum((df.dataset == 0) & (df[target] == 1))}\")"
   ]
  },
  {
   "cell_type": "code",
   "execution_count": null,
   "metadata": {},
   "outputs": [],
   "source": [
    "encoder = Encoder()\n",
    "encoder.learn(df[df.dataset==1], features)\n",
    "encoder.apply(df)\n",
    "encoder.save()"
   ]
  },
  {
   "cell_type": "code",
   "execution_count": null,
   "metadata": {},
   "outputs": [],
   "source": [
    "model = XgboostBinclass()\n",
    "model.learn(df[df.dataset == 1], features, target)\n",
    "model.apply(df)\n",
    "model.evaluate(df)\n",
    "model.explain(df)\n",
    "model.save()"
   ]
  },
  {
   "cell_type": "code",
   "execution_count": null,
   "metadata": {},
   "outputs": [],
   "source": [
    "model.shap_values"
   ]
  },
  {
   "cell_type": "code",
   "execution_count": 6,
   "metadata": {},
   "outputs": [
    {
     "name": "stdout",
     "output_type": "stream",
     "text": [
      "Encoder saved to resources/info/encoder_info.joblib\n",
      "Standardizer saved to resources/info/stand_info.joblib\n",
      "Model saved to resources/info/model_info.joblib\n"
     ]
    }
   ],
   "source": [
    "save_encoder(encoder_info, filepath=\"resources/info/encoder_info.joblib\")\n",
    "save_standardizer(stand_info, filepath=\"resources/info/stand_info.joblib\")\n",
    "mh.save_model(model_info, filepath=\"resources/info/model_info.joblib\")"
   ]
  }
 ],
 "metadata": {
  "colab": {
   "authorship_tag": "ABX9TyMRR80ikHmDhGq0zMpwdyVt",
   "collapsed_sections": [
    "rir-Fm4FjVS_",
    "hN61ONd83Ija",
    "YLAjfIwp3XAS"
   ],
   "provenance": [
    {
     "file_id": "1Zq5T9WBN734BRbaknZLbWc1zigkcnZiq",
     "timestamp": 1744021596593
    },
    {
     "file_id": "1AGUULNXaIYSf61B4TUr3LDSXFpKX55lb",
     "timestamp": 1742786571969
    }
   ]
  },
  "kernelspec": {
   "display_name": "Python 3",
   "name": "python3"
  },
  "language_info": {
   "codemirror_mode": {
    "name": "ipython",
    "version": 3
   },
   "file_extension": ".py",
   "mimetype": "text/x-python",
   "name": "python",
   "nbconvert_exporter": "python",
   "pygments_lexer": "ipython3",
   "version": "3.11.2"
  }
 },
 "nbformat": 4,
 "nbformat_minor": 0
}
