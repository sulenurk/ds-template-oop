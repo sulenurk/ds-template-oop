{
 "cells": [
  {
   "cell_type": "code",
   "execution_count": null,
   "metadata": {
    "colab": {
     "base_uri": "https://localhost:8080/"
    },
    "executionInfo": {
     "elapsed": 18764,
     "status": "ok",
     "timestamp": 1744638787119,
     "user": {
      "displayName": "Şule",
      "userId": "00500865046064617523"
     },
     "user_tz": -120
    },
    "id": "yJtoYtDWJPMN",
    "outputId": "03c51760-231b-4377-ece6-cacb3dbfd237"
   },
   "outputs": [],
   "source": [
    "import pandas as pd\n",
    "from utils.data_prep_utils import *\n",
    "from transformers.encoder import *\n",
    "from transformers.binner import *\n",
    "from transformers.standardizer import *\n",
    "from model_binclass import xgboost_binclass"
   ]
  },
  {
   "cell_type": "code",
   "execution_count": 8,
   "metadata": {
    "id": "rCsLLXy6__87"
   },
   "outputs": [],
   "source": [
    "#Data import form drive\n",
    "df = pd.read_csv(r'resources/Machine failure.csv')\n",
    "df = df.drop(['TWF','HDF','PWF', 'OSF', 'RNF', 'UDI', 'Product ID', 'Machine failure'], axis=1)"
   ]
  },
  {
   "cell_type": "code",
   "execution_count": 9,
   "metadata": {},
   "outputs": [
    {
     "name": "stdout",
     "output_type": "stream",
     "text": [
      "Encoder loaded from resources/info/encoder_info.joblib\n",
      "Standardizer loaded from resources/info/stand_info.joblib\n",
      "Model loaded from resources/info/model_info.joblib\n"
     ]
    }
   ],
   "source": [
    "encoder_info = load_encoder('resources/info/encoder_info.joblib')\n",
    "stand_info = load_standardizer('resources/info/stand_info.joblib')\n",
    "model_info = xgboost_binclass.load_model('resources/info/model_info.joblib')"
   ]
  },
  {
   "cell_type": "code",
   "execution_count": null,
   "metadata": {
    "id": "5SPl7YOkEqXO"
   },
   "outputs": [],
   "source": [
    "df = apply_encoder(df, encoder_info)\n",
    "df = apply_standardizer(df, stand_info)\n",
    "df = xgboost_binclass.apply_model(df, model_info)"
   ]
  }
 ],
 "metadata": {
  "colab": {
   "authorship_tag": "ABX9TyNBFhO5ytteE/zhCkiQkDq0",
   "provenance": [
    {
     "file_id": "1B7ZQ25v5WZ6iWHAPLlgOPYvPV0sXYt_h",
     "timestamp": 1744646121795
    },
    {
     "file_id": "1Zq5T9WBN734BRbaknZLbWc1zigkcnZiq",
     "timestamp": 1744021596593
    },
    {
     "file_id": "1AGUULNXaIYSf61B4TUr3LDSXFpKX55lb",
     "timestamp": 1742786571969
    }
   ]
  },
  "kernelspec": {
   "display_name": "Python 3",
   "name": "python3"
  },
  "language_info": {
   "codemirror_mode": {
    "name": "ipython",
    "version": 3
   },
   "file_extension": ".py",
   "mimetype": "text/x-python",
   "name": "python",
   "nbconvert_exporter": "python",
   "pygments_lexer": "ipython3",
   "version": "3.11.2"
  }
 },
 "nbformat": 4,
 "nbformat_minor": 0
}
